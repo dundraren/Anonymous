{
 "cells": [
  {
   "cell_type": "markdown",
   "id": "080b2b93-30c6-4127-bac9-23a8beeb3fb5",
   "metadata": {},
   "source": [
    "# Setting up Chat Completion API>"
   ]
  },
  {
   "cell_type": "code",
   "execution_count": null,
   "id": "9a3e5737-5104-4116-a76b-325dd776be85",
   "metadata": {},
   "outputs": [],
   "source": [
    "def chat_completion_request(messages, tools=None, tool_choice=None, model):\n",
    "    try:\n",
    "        response = client.chat.completions.create(\n",
    "            model=model,\n",
    "            messages=messages,\n",
    "            tools=tools,\n",
    "            tool_choice=tool_choice,\n",
    "            temperature=0.2,\n",
    "        )\n",
    "        return response\n",
    "    except Exception as e:\n",
    "        print(\"Unable to generate ChatCompletion response\")\n",
    "        print(f\"Exception: {e}\")\n",
    "        return e"
   ]
  },
  {
   "cell_type": "markdown",
   "id": "6d0ec995-be90-4b22-9d89-a9cbac629355",
   "metadata": {},
   "source": [
    "# Context-informed"
   ]
  },
  {
   "cell_type": "code",
   "execution_count": null,
   "id": "f83a063f-1b05-4cba-8ce5-94a80bf8b15c",
   "metadata": {},
   "outputs": [],
   "source": [
    "def context_informed(sentence):\n",
    "    messages = []\n",
    "    messages.append({\"role\": \"user\", \n",
    "                    \"content\": f\"Translate the following mathematical content from English to Swedish, ensuring the translation is accurate and natural. Emphasize choosing the correct Swedish term for mathematical expressions. If there is no direct Swedish equivalent, use a suitable and natural Swedish term instead of a literal translation. If the English word is commonly used in Sweden, keep it in English. Keep all LaTeX expressions and book titles as they are. Output only the translated sentence: {sentence}\"})\n",
    "\n",
    "    chat_response = chat_completion_request(messages, model='gpt-4o')\n",
    "    assistant_message = chat_response.choices[0].message\n",
    "    return assistant_message.content"
   ]
  },
  {
   "cell_type": "markdown",
   "id": "acf4f203-d9cf-4351-8236-c9eaf6c7947b",
   "metadata": {},
   "source": [
    "# Multi-turn"
   ]
  },
  {
   "cell_type": "code",
   "execution_count": null,
   "id": "2c9841b0-9350-470a-b375-383b0c286853",
   "metadata": {},
   "outputs": [],
   "source": [
    "def multi_turn(sentence):\n",
    "    messages = []\n",
    "    messages.append({\"role\": \"user\", \n",
    "                    \"content\": f\"Translate the following mathematical content from English to Swedish, ensuring the translation is accurate and natural. Emphasize choosing the correct Swedish term for mathematical expressions. If there is no direct Swedish equivalent, use a suitable and natural Swedish term instead of a literal translation. If the English word is commonly used in Sweden, keep it in English. Keep all LaTeX expressions and book titles as they are. Output only the translated sentence: {sentence}\"})\n",
    "    \n",
    "    chat_response = chat_completion_request(messages, model='gpt-4o')\n",
    "    final_translation = f\"Refine the translation and make sure that the translation uses correct and precise mathematical terms that are commonly used in Sweden. Output only the translated sentence: {sentence}\"                \n",
    "    messages.append({\"role\": \"assistant\", \"content\": final_translation})\n",
    "    chat_response = chat_completion_request(messages, model='gpt-4o')\n",
    "    assistant_message = chat_response.choices[0].message\n",
    "    return assistant_message.content"
   ]
  },
  {
   "cell_type": "markdown",
   "id": "c8331e4a-ee4a-4c5c-9205-7f994515b225",
   "metadata": {},
   "source": [
    "# Few-shot"
   ]
  },
  {
   "cell_type": "code",
   "execution_count": null,
   "id": "41f56e34-cd20-4297-8462-018a1838964e",
   "metadata": {},
   "outputs": [],
   "source": [
    "def few_shot(sentence):\n",
    "    messages = []\n",
    "    messages.append({\n",
    "        \"role\": \"user\", \n",
    "        \"content\": f\"\"\"Translate the following mathematical content from English to Swedish, ensuring the translation is accurate and natural. Emphasize choosing the correct Swedish term for mathematical expressions. If there is no direct Swedish equivalent, use a suitable and natural Swedish term instead of a literal translation. If the English word is commonly used in Sweden, keep it in English. Keep all LaTeX expressions and book titles as they are. Output only the translated sentence: {sentence}\n",
    "        \n",
    "        Here are some examples of ideal translations: \n",
    "        9.5 Counting Principles translated to 9.5 Principer för kombinationer och permutationer, \n",
    "        1.2 Exponents and Scientific Notation translated to 1.2 Exponenter och grundpotensformen, \n",
    "        5.5 Zeros of Polynomial Functions translated to 5.5 Nollställen för polynomfunktioner, \n",
    "        12.4 Binomial Theorem translated to  12.4 Binomialsatsen, \n",
    "        Solving Systems of Equations in Word Problems translated to Lösa ekvationssystem i textproblem \n",
    "        \"\"\"\n",
    "    })\n",
    "\n",
    "    chat_response = chat_completion_request(messages, model='gpt-4o')\n",
    "    assistant_message = chat_response.choices[0].message\n",
    "    return assistant_message.content"
   ]
  }
 ],
 "metadata": {
  "kernelspec": {
   "display_name": "Python 3 (ipykernel)",
   "language": "python",
   "name": "python3"
  },
  "language_info": {
   "codemirror_mode": {
    "name": "ipython",
    "version": 3
   },
   "file_extension": ".py",
   "mimetype": "text/x-python",
   "name": "python",
   "nbconvert_exporter": "python",
   "pygments_lexer": "ipython3",
   "version": "3.10.12"
  }
 },
 "nbformat": 4,
 "nbformat_minor": 5
}
